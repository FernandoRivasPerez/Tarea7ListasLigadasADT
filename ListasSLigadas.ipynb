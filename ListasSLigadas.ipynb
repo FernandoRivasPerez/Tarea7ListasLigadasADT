{
  "nbformat": 4,
  "nbformat_minor": 0,
  "metadata": {
    "colab": {
      "name": "ListasSLigadas.ipynb",
      "provenance": [],
      "authorship_tag": "ABX9TyNN400ODBQ7uA+W1dxjSJ/P",
      "include_colab_link": true
    },
    "kernelspec": {
      "name": "python3",
      "display_name": "Python 3"
    },
    "language_info": {
      "name": "python"
    }
  },
  "cells": [
    {
      "cell_type": "markdown",
      "metadata": {
        "id": "view-in-github",
        "colab_type": "text"
      },
      "source": [
        "<a href=\"https://colab.research.google.com/github/FernandoRivasPerez/Tarea7ListasLigadasADT/blob/main/ListasSLigadas.ipynb\" target=\"_parent\"><img src=\"https://colab.research.google.com/assets/colab-badge.svg\" alt=\"Open In Colab\"/></a>"
      ]
    },
    {
      "cell_type": "code",
      "metadata": {
        "id": "ap5tPK8UB2cj"
      },
      "source": [
        "class Nodo:\n",
        "    def __init__( self , value , siguiente = None ):\n",
        "        self.data = value\n",
        "        self.next = siguiente\n",
        "\n",
        "class LinkedList:\n",
        "    def __init__( self ):\n",
        "        self.head = None\n",
        "    \n",
        "    def is_empty( self ):\n",
        "        return self.head == None\n",
        "    \n",
        "    def get_tail( self ):\n",
        "        if self.is_empty():\n",
        "            return None\n",
        "        else:\n",
        "            curr_node = self.head\n",
        "            while curr_node.next != None:\n",
        "                curr_node = curr_node.next\n",
        "            return curr_node\n",
        "    \n",
        "    def preppend( self , value ):\n",
        "        if self.head == None:\n",
        "            print(\"Esta vacio, no se puede hacer preppend\")\n",
        "        else:\n",
        "            aux = self.head\n",
        "            self.head = Nodo( value, aux )\n",
        "\n",
        "    def append( self , value ):\n",
        "        if self.head == None:\n",
        "            self.head = Nodo( value )\n",
        "        else:\n",
        "            curr_node = self.head\n",
        "            while curr_node.next != None:\n",
        "                curr_node = curr_node.next\n",
        "            curr_node.next = Nodo(value)\n",
        "\n",
        "    def transversal( self ):\n",
        "        curr_node = self.head\n",
        "        while curr_node != None:\n",
        "            print(f\"| { curr_node.data } | -->\", end=\"\")\n",
        "            curr_node = curr_node.next\n",
        "        print(\"\")\n",
        "    \n",
        "    def remove( self, value):\n",
        "        if self.head == None:\n",
        "            print(\"Lista vacia, no se puede remover nada\")\n",
        "        else:\n",
        "            curr_node = self.head\n",
        "            aux = None\n",
        "            while curr_node.data != value: #revisar cuando el valor no exista\n",
        "                aux = curr_node\n",
        "                curr_node = curr_node.next\n",
        "            \n",
        "            if curr_node != None:\n",
        "                aux.next = curr_node.next\n",
        "                curr_node = None\n",
        "    \n",
        "    def pop( self ):\n",
        "        curr_node = self.head #5\n",
        "        while curr_node.next.next != None:\n",
        "            #print(curr_node.data)\n",
        "            #print(curr_node.next.next.data)\n",
        "            curr_node = curr_node.next\n",
        "        print(f\"Nodo seleccionado: {curr_node.next.data}\")\n",
        "        curr_node.next = None\n",
        "        \"\"\"\n",
        "        curr_node = self.head\n",
        "        while curr_node.next.next != None:\n",
        "            curr_node = curr_node.next\n",
        "        curr_node.next = None\n",
        "        \"\"\"\n",
        "\n",
        "    def pop_first( self ):\n",
        "        print(f\"Nodo seleccionado: {self.head.data}\")\n",
        "        self.head = self.head.next\n"
      ],
      "execution_count": 1,
      "outputs": []
    },
    {
      "cell_type": "code",
      "metadata": {
        "colab": {
          "base_uri": "https://localhost:8080/"
        },
        "id": "tMfjMMLxCHje",
        "outputId": "3637be02-8d7d-4829-8f75-144fdd7527b2"
      },
      "source": [
        "lista = LinkedList()\n",
        "if lista.is_empty():\n",
        "    print(\"La lista está vacia\")\n",
        "else:\n",
        "    print(\"Las lista no está vacia\")\n",
        "\n",
        "lista.append(10)\n",
        "lista.append(20)\n",
        "lista.append(30)\n",
        "lista.append(40)\n",
        "lista.append(50)\n",
        "\n",
        "nodo = lista.get_tail()\n",
        "if nodo != None:\n",
        "    print(nodo.data)\n",
        "else:\n",
        "    print(\"Lista vacia\")\n",
        "\n",
        "lista.transversal()\n",
        "lista.remove(30)\n",
        "lista.transversal()\n",
        "print(\"\")\n",
        "print(\"Después del preppend\")\n",
        "lista.preppend(5)\n",
        "lista.transversal()\n",
        "print(\"\")\n",
        "print(\"Después de pop\")\n",
        "lista.pop()\n",
        "lista.transversal()\n",
        "print(\"\")\n",
        "print(\"Después de pop_first\")\n",
        "lista.pop_first()\n",
        "lista.transversal()"
      ],
      "execution_count": 2,
      "outputs": [
        {
          "output_type": "stream",
          "name": "stdout",
          "text": [
            "La lista está vacia\n",
            "50\n",
            "| 10 | -->| 20 | -->| 30 | -->| 40 | -->| 50 | -->\n",
            "| 10 | -->| 20 | -->| 40 | -->| 50 | -->\n",
            "\n",
            "Después del preppend\n",
            "| 5 | -->| 10 | -->| 20 | -->| 40 | -->| 50 | -->\n",
            "\n",
            "Después de pop\n",
            "Nodo seleccionado: 50\n",
            "| 5 | -->| 10 | -->| 20 | -->| 40 | -->\n",
            "\n",
            "Después de pop_first\n",
            "Nodo seleccionado: 5\n",
            "| 10 | -->| 20 | -->| 40 | -->\n"
          ]
        }
      ]
    }
  ]
}